{
 "cells": [
  {
   "cell_type": "markdown",
   "id": "7f3f7e49",
   "metadata": {},
   "source": [
    "# The Final Project: Titanic Dataset"
   ]
  },
  {
   "cell_type": "code",
   "execution_count": 2,
   "id": "b8061af5",
   "metadata": {},
   "outputs": [],
   "source": [
    "# Import libraries and Data"
   ]
  },
  {
   "cell_type": "code",
   "execution_count": 3,
   "id": "ca15fd88",
   "metadata": {},
   "outputs": [],
   "source": [
    "import pandas as pd\n",
    "import numpy as np\n",
    "import seaborn as sns\n",
    "import matplotlib.pyplot as plt\n",
    "from scipy import stats\n",
    "from scipy.stats import boxcox\n",
    "%matplotlib inline\n",
    "from sklearn.ensemble import RandomForestClassifier\n",
    "from sklearn.model_selection import train_test_split\n",
    "from sklearn.tree import DecisionTreeClassifier\n",
    "from sklearn.metrics import classification_report, confusion_matrix, accuracy_score"
   ]
  },
  {
   "cell_type": "code",
   "execution_count": 4,
   "id": "91e4c849",
   "metadata": {},
   "outputs": [],
   "source": [
    "titanic = pd.read_csv(\"C:/Users/alici/Documents/Data Science/Homework assignments/FINAL PROJECT 2022/titanic/titanic3.csv\")"
   ]
  },
  {
   "cell_type": "code",
   "execution_count": 5,
   "id": "56339a5d",
   "metadata": {},
   "outputs": [
    {
     "name": "stdout",
     "output_type": "stream",
     "text": [
      "     Unnamed: 0  Survived  Pclass  Sex  Age  Siblings  Parch  Fare  Gender  \\\n",
      "0             0         1       1    1   38         1      0    71       1   \n",
      "1             1         1       1    1   35         1      0    53       1   \n",
      "2             2         0       1    0   54         0      0    51       0   \n",
      "3             3         1       3    1    4         1      1    16       2   \n",
      "4             4         1       1    1   58         0      0    26       1   \n",
      "..          ...       ...     ...  ...  ...       ...    ...   ...     ...   \n",
      "177         177         1       1    1   47         1      1    52       1   \n",
      "178         178         0       1    0   33         0      0     5       0   \n",
      "179         179         1       1    1   56         0      1    83       1   \n",
      "180         180         1       1    1   19         0      0    30       1   \n",
      "181         181         1       1    0   26         0      0    30       0   \n",
      "\n",
      "     Alive  \n",
      "0        0  \n",
      "1        0  \n",
      "2        1  \n",
      "3        0  \n",
      "4        0  \n",
      "..     ...  \n",
      "177      0  \n",
      "178      1  \n",
      "179      0  \n",
      "180      0  \n",
      "181      0  \n",
      "\n",
      "[182 rows x 10 columns]\n"
     ]
    }
   ],
   "source": [
    "print(titanic)"
   ]
  },
  {
   "cell_type": "code",
   "execution_count": 6,
   "id": "a789f88f",
   "metadata": {},
   "outputs": [
    {
     "data": {
      "text/html": [
       "<div>\n",
       "<style scoped>\n",
       "    .dataframe tbody tr th:only-of-type {\n",
       "        vertical-align: middle;\n",
       "    }\n",
       "\n",
       "    .dataframe tbody tr th {\n",
       "        vertical-align: top;\n",
       "    }\n",
       "\n",
       "    .dataframe thead th {\n",
       "        text-align: right;\n",
       "    }\n",
       "</style>\n",
       "<table border=\"1\" class=\"dataframe\">\n",
       "  <thead>\n",
       "    <tr style=\"text-align: right;\">\n",
       "      <th></th>\n",
       "      <th>Unnamed: 0</th>\n",
       "      <th>Survived</th>\n",
       "      <th>Pclass</th>\n",
       "      <th>Sex</th>\n",
       "      <th>Age</th>\n",
       "      <th>Siblings</th>\n",
       "      <th>Parch</th>\n",
       "      <th>Fare</th>\n",
       "      <th>Gender</th>\n",
       "      <th>Alive</th>\n",
       "    </tr>\n",
       "  </thead>\n",
       "  <tbody>\n",
       "    <tr>\n",
       "      <th>0</th>\n",
       "      <td>0</td>\n",
       "      <td>1</td>\n",
       "      <td>1</td>\n",
       "      <td>1</td>\n",
       "      <td>38</td>\n",
       "      <td>1</td>\n",
       "      <td>0</td>\n",
       "      <td>71</td>\n",
       "      <td>1</td>\n",
       "      <td>0</td>\n",
       "    </tr>\n",
       "    <tr>\n",
       "      <th>1</th>\n",
       "      <td>1</td>\n",
       "      <td>1</td>\n",
       "      <td>1</td>\n",
       "      <td>1</td>\n",
       "      <td>35</td>\n",
       "      <td>1</td>\n",
       "      <td>0</td>\n",
       "      <td>53</td>\n",
       "      <td>1</td>\n",
       "      <td>0</td>\n",
       "    </tr>\n",
       "    <tr>\n",
       "      <th>2</th>\n",
       "      <td>2</td>\n",
       "      <td>0</td>\n",
       "      <td>1</td>\n",
       "      <td>0</td>\n",
       "      <td>54</td>\n",
       "      <td>0</td>\n",
       "      <td>0</td>\n",
       "      <td>51</td>\n",
       "      <td>0</td>\n",
       "      <td>1</td>\n",
       "    </tr>\n",
       "    <tr>\n",
       "      <th>3</th>\n",
       "      <td>3</td>\n",
       "      <td>1</td>\n",
       "      <td>3</td>\n",
       "      <td>1</td>\n",
       "      <td>4</td>\n",
       "      <td>1</td>\n",
       "      <td>1</td>\n",
       "      <td>16</td>\n",
       "      <td>2</td>\n",
       "      <td>0</td>\n",
       "    </tr>\n",
       "    <tr>\n",
       "      <th>4</th>\n",
       "      <td>4</td>\n",
       "      <td>1</td>\n",
       "      <td>1</td>\n",
       "      <td>1</td>\n",
       "      <td>58</td>\n",
       "      <td>0</td>\n",
       "      <td>0</td>\n",
       "      <td>26</td>\n",
       "      <td>1</td>\n",
       "      <td>0</td>\n",
       "    </tr>\n",
       "  </tbody>\n",
       "</table>\n",
       "</div>"
      ],
      "text/plain": [
       "   Unnamed: 0  Survived  Pclass  Sex  Age  Siblings  Parch  Fare  Gender  \\\n",
       "0           0         1       1    1   38         1      0    71       1   \n",
       "1           1         1       1    1   35         1      0    53       1   \n",
       "2           2         0       1    0   54         0      0    51       0   \n",
       "3           3         1       3    1    4         1      1    16       2   \n",
       "4           4         1       1    1   58         0      0    26       1   \n",
       "\n",
       "   Alive  \n",
       "0      0  \n",
       "1      0  \n",
       "2      1  \n",
       "3      0  \n",
       "4      0  "
      ]
     },
     "execution_count": 6,
     "metadata": {},
     "output_type": "execute_result"
    }
   ],
   "source": [
    "pd.options.display.max_columns = None\n",
    "titanic.head()"
   ]
  },
  {
   "cell_type": "markdown",
   "id": "1d1faf36",
   "metadata": {},
   "source": [
    "# Data wrangling"
   ]
  },
  {
   "cell_type": "code",
   "execution_count": 7,
   "id": "fac5b17e",
   "metadata": {},
   "outputs": [],
   "source": [
    "titanic2 = titanic"
   ]
  },
  {
   "cell_type": "code",
   "execution_count": 8,
   "id": "ccbc3739",
   "metadata": {},
   "outputs": [],
   "source": [
    "# Drop NULL"
   ]
  },
  {
   "cell_type": "code",
   "execution_count": 9,
   "id": "8afd5dd4",
   "metadata": {},
   "outputs": [
    {
     "data": {
      "text/html": [
       "<div>\n",
       "<style scoped>\n",
       "    .dataframe tbody tr th:only-of-type {\n",
       "        vertical-align: middle;\n",
       "    }\n",
       "\n",
       "    .dataframe tbody tr th {\n",
       "        vertical-align: top;\n",
       "    }\n",
       "\n",
       "    .dataframe thead th {\n",
       "        text-align: right;\n",
       "    }\n",
       "</style>\n",
       "<table border=\"1\" class=\"dataframe\">\n",
       "  <thead>\n",
       "    <tr style=\"text-align: right;\">\n",
       "      <th></th>\n",
       "      <th>Unnamed: 0</th>\n",
       "      <th>Survived</th>\n",
       "      <th>Pclass</th>\n",
       "      <th>Sex</th>\n",
       "      <th>Age</th>\n",
       "      <th>Siblings</th>\n",
       "      <th>Parch</th>\n",
       "      <th>Fare</th>\n",
       "      <th>Gender</th>\n",
       "      <th>Alive</th>\n",
       "    </tr>\n",
       "  </thead>\n",
       "  <tbody>\n",
       "    <tr>\n",
       "      <th>0</th>\n",
       "      <td>0</td>\n",
       "      <td>1</td>\n",
       "      <td>1</td>\n",
       "      <td>1</td>\n",
       "      <td>38</td>\n",
       "      <td>1</td>\n",
       "      <td>0</td>\n",
       "      <td>71</td>\n",
       "      <td>1</td>\n",
       "      <td>0</td>\n",
       "    </tr>\n",
       "    <tr>\n",
       "      <th>1</th>\n",
       "      <td>1</td>\n",
       "      <td>1</td>\n",
       "      <td>1</td>\n",
       "      <td>1</td>\n",
       "      <td>35</td>\n",
       "      <td>1</td>\n",
       "      <td>0</td>\n",
       "      <td>53</td>\n",
       "      <td>1</td>\n",
       "      <td>0</td>\n",
       "    </tr>\n",
       "    <tr>\n",
       "      <th>2</th>\n",
       "      <td>2</td>\n",
       "      <td>0</td>\n",
       "      <td>1</td>\n",
       "      <td>0</td>\n",
       "      <td>54</td>\n",
       "      <td>0</td>\n",
       "      <td>0</td>\n",
       "      <td>51</td>\n",
       "      <td>0</td>\n",
       "      <td>1</td>\n",
       "    </tr>\n",
       "    <tr>\n",
       "      <th>3</th>\n",
       "      <td>3</td>\n",
       "      <td>1</td>\n",
       "      <td>3</td>\n",
       "      <td>1</td>\n",
       "      <td>4</td>\n",
       "      <td>1</td>\n",
       "      <td>1</td>\n",
       "      <td>16</td>\n",
       "      <td>2</td>\n",
       "      <td>0</td>\n",
       "    </tr>\n",
       "    <tr>\n",
       "      <th>4</th>\n",
       "      <td>4</td>\n",
       "      <td>1</td>\n",
       "      <td>1</td>\n",
       "      <td>1</td>\n",
       "      <td>58</td>\n",
       "      <td>0</td>\n",
       "      <td>0</td>\n",
       "      <td>26</td>\n",
       "      <td>1</td>\n",
       "      <td>0</td>\n",
       "    </tr>\n",
       "    <tr>\n",
       "      <th>...</th>\n",
       "      <td>...</td>\n",
       "      <td>...</td>\n",
       "      <td>...</td>\n",
       "      <td>...</td>\n",
       "      <td>...</td>\n",
       "      <td>...</td>\n",
       "      <td>...</td>\n",
       "      <td>...</td>\n",
       "      <td>...</td>\n",
       "      <td>...</td>\n",
       "    </tr>\n",
       "    <tr>\n",
       "      <th>177</th>\n",
       "      <td>177</td>\n",
       "      <td>1</td>\n",
       "      <td>1</td>\n",
       "      <td>1</td>\n",
       "      <td>47</td>\n",
       "      <td>1</td>\n",
       "      <td>1</td>\n",
       "      <td>52</td>\n",
       "      <td>1</td>\n",
       "      <td>0</td>\n",
       "    </tr>\n",
       "    <tr>\n",
       "      <th>178</th>\n",
       "      <td>178</td>\n",
       "      <td>0</td>\n",
       "      <td>1</td>\n",
       "      <td>0</td>\n",
       "      <td>33</td>\n",
       "      <td>0</td>\n",
       "      <td>0</td>\n",
       "      <td>5</td>\n",
       "      <td>0</td>\n",
       "      <td>1</td>\n",
       "    </tr>\n",
       "    <tr>\n",
       "      <th>179</th>\n",
       "      <td>179</td>\n",
       "      <td>1</td>\n",
       "      <td>1</td>\n",
       "      <td>1</td>\n",
       "      <td>56</td>\n",
       "      <td>0</td>\n",
       "      <td>1</td>\n",
       "      <td>83</td>\n",
       "      <td>1</td>\n",
       "      <td>0</td>\n",
       "    </tr>\n",
       "    <tr>\n",
       "      <th>180</th>\n",
       "      <td>180</td>\n",
       "      <td>1</td>\n",
       "      <td>1</td>\n",
       "      <td>1</td>\n",
       "      <td>19</td>\n",
       "      <td>0</td>\n",
       "      <td>0</td>\n",
       "      <td>30</td>\n",
       "      <td>1</td>\n",
       "      <td>0</td>\n",
       "    </tr>\n",
       "    <tr>\n",
       "      <th>181</th>\n",
       "      <td>181</td>\n",
       "      <td>1</td>\n",
       "      <td>1</td>\n",
       "      <td>0</td>\n",
       "      <td>26</td>\n",
       "      <td>0</td>\n",
       "      <td>0</td>\n",
       "      <td>30</td>\n",
       "      <td>0</td>\n",
       "      <td>0</td>\n",
       "    </tr>\n",
       "  </tbody>\n",
       "</table>\n",
       "<p>182 rows × 10 columns</p>\n",
       "</div>"
      ],
      "text/plain": [
       "     Unnamed: 0  Survived  Pclass  Sex  Age  Siblings  Parch  Fare  Gender  \\\n",
       "0             0         1       1    1   38         1      0    71       1   \n",
       "1             1         1       1    1   35         1      0    53       1   \n",
       "2             2         0       1    0   54         0      0    51       0   \n",
       "3             3         1       3    1    4         1      1    16       2   \n",
       "4             4         1       1    1   58         0      0    26       1   \n",
       "..          ...       ...     ...  ...  ...       ...    ...   ...     ...   \n",
       "177         177         1       1    1   47         1      1    52       1   \n",
       "178         178         0       1    0   33         0      0     5       0   \n",
       "179         179         1       1    1   56         0      1    83       1   \n",
       "180         180         1       1    1   19         0      0    30       1   \n",
       "181         181         1       1    0   26         0      0    30       0   \n",
       "\n",
       "     Alive  \n",
       "0        0  \n",
       "1        0  \n",
       "2        1  \n",
       "3        0  \n",
       "4        0  \n",
       "..     ...  \n",
       "177      0  \n",
       "178      1  \n",
       "179      0  \n",
       "180      0  \n",
       "181      0  \n",
       "\n",
       "[182 rows x 10 columns]"
      ]
     },
     "execution_count": 9,
     "metadata": {},
     "output_type": "execute_result"
    }
   ],
   "source": [
    "titanic2.dropna()"
   ]
  },
  {
   "cell_type": "markdown",
   "id": "b527711d",
   "metadata": {},
   "source": [
    "# Recode Sex"
   ]
  },
  {
   "cell_type": "code",
   "execution_count": 10,
   "id": "7c9cfae7",
   "metadata": {},
   "outputs": [],
   "source": [
    "def gender (series): \n",
    "    if series == \"male\":\n",
    "        return 0\n",
    "    if series == \"female\": \n",
    "        return 1"
   ]
  },
  {
   "cell_type": "code",
   "execution_count": 11,
   "id": "ca28d9e2",
   "metadata": {},
   "outputs": [],
   "source": [
    "titanic2['Gender'] = titanic['Sex'].apply(gender)"
   ]
  },
  {
   "cell_type": "markdown",
   "id": "b02943bf",
   "metadata": {},
   "source": [
    "# Drop uneccesary columns; Unnamed, Cabin, Ticket, Name, Alive"
   ]
  },
  {
   "cell_type": "code",
   "execution_count": 12,
   "id": "b8689c29",
   "metadata": {},
   "outputs": [],
   "source": [
    "titanic2 = titanic.drop(['Unnamed: 0', 'Alive'], axis=1)"
   ]
  },
  {
   "cell_type": "code",
   "execution_count": 13,
   "id": "d49b733e",
   "metadata": {},
   "outputs": [],
   "source": [
    "def location (series): \n",
    "    if series == \"S\":\n",
    "        return 0\n",
    "    if series == \"C\": \n",
    "        return 1\n",
    "    if series == \"Q\":\n",
    "        return 2"
   ]
  },
  {
   "cell_type": "code",
   "execution_count": 14,
   "id": "48442c1b",
   "metadata": {},
   "outputs": [
    {
     "data": {
      "text/html": [
       "<div>\n",
       "<style scoped>\n",
       "    .dataframe tbody tr th:only-of-type {\n",
       "        vertical-align: middle;\n",
       "    }\n",
       "\n",
       "    .dataframe tbody tr th {\n",
       "        vertical-align: top;\n",
       "    }\n",
       "\n",
       "    .dataframe thead th {\n",
       "        text-align: right;\n",
       "    }\n",
       "</style>\n",
       "<table border=\"1\" class=\"dataframe\">\n",
       "  <thead>\n",
       "    <tr style=\"text-align: right;\">\n",
       "      <th></th>\n",
       "      <th>Survived</th>\n",
       "      <th>Pclass</th>\n",
       "      <th>Sex</th>\n",
       "      <th>Age</th>\n",
       "      <th>Siblings</th>\n",
       "      <th>Parch</th>\n",
       "      <th>Fare</th>\n",
       "      <th>Gender</th>\n",
       "    </tr>\n",
       "  </thead>\n",
       "  <tbody>\n",
       "    <tr>\n",
       "      <th>0</th>\n",
       "      <td>1</td>\n",
       "      <td>1</td>\n",
       "      <td>1</td>\n",
       "      <td>38</td>\n",
       "      <td>1</td>\n",
       "      <td>0</td>\n",
       "      <td>71</td>\n",
       "      <td>None</td>\n",
       "    </tr>\n",
       "    <tr>\n",
       "      <th>1</th>\n",
       "      <td>1</td>\n",
       "      <td>1</td>\n",
       "      <td>1</td>\n",
       "      <td>35</td>\n",
       "      <td>1</td>\n",
       "      <td>0</td>\n",
       "      <td>53</td>\n",
       "      <td>None</td>\n",
       "    </tr>\n",
       "    <tr>\n",
       "      <th>2</th>\n",
       "      <td>0</td>\n",
       "      <td>1</td>\n",
       "      <td>0</td>\n",
       "      <td>54</td>\n",
       "      <td>0</td>\n",
       "      <td>0</td>\n",
       "      <td>51</td>\n",
       "      <td>None</td>\n",
       "    </tr>\n",
       "    <tr>\n",
       "      <th>3</th>\n",
       "      <td>1</td>\n",
       "      <td>3</td>\n",
       "      <td>1</td>\n",
       "      <td>4</td>\n",
       "      <td>1</td>\n",
       "      <td>1</td>\n",
       "      <td>16</td>\n",
       "      <td>None</td>\n",
       "    </tr>\n",
       "    <tr>\n",
       "      <th>4</th>\n",
       "      <td>1</td>\n",
       "      <td>1</td>\n",
       "      <td>1</td>\n",
       "      <td>58</td>\n",
       "      <td>0</td>\n",
       "      <td>0</td>\n",
       "      <td>26</td>\n",
       "      <td>None</td>\n",
       "    </tr>\n",
       "  </tbody>\n",
       "</table>\n",
       "</div>"
      ],
      "text/plain": [
       "   Survived  Pclass  Sex  Age  Siblings  Parch  Fare Gender\n",
       "0         1       1    1   38         1      0    71   None\n",
       "1         1       1    1   35         1      0    53   None\n",
       "2         0       1    0   54         0      0    51   None\n",
       "3         1       3    1    4         1      1    16   None\n",
       "4         1       1    1   58         0      0    26   None"
      ]
     },
     "execution_count": 14,
     "metadata": {},
     "output_type": "execute_result"
    }
   ],
   "source": [
    "titanic2.head()"
   ]
  },
  {
   "cell_type": "code",
   "execution_count": 15,
   "id": "d676c42f",
   "metadata": {},
   "outputs": [
    {
     "data": {
      "text/html": [
       "<div>\n",
       "<style scoped>\n",
       "    .dataframe tbody tr th:only-of-type {\n",
       "        vertical-align: middle;\n",
       "    }\n",
       "\n",
       "    .dataframe tbody tr th {\n",
       "        vertical-align: top;\n",
       "    }\n",
       "\n",
       "    .dataframe thead th {\n",
       "        text-align: right;\n",
       "    }\n",
       "</style>\n",
       "<table border=\"1\" class=\"dataframe\">\n",
       "  <thead>\n",
       "    <tr style=\"text-align: right;\">\n",
       "      <th></th>\n",
       "      <th>Survived</th>\n",
       "      <th>Pclass</th>\n",
       "      <th>Sex</th>\n",
       "      <th>Age</th>\n",
       "      <th>Siblings</th>\n",
       "      <th>Parch</th>\n",
       "      <th>Fare</th>\n",
       "    </tr>\n",
       "  </thead>\n",
       "  <tbody>\n",
       "    <tr>\n",
       "      <th>count</th>\n",
       "      <td>182.000000</td>\n",
       "      <td>182.000000</td>\n",
       "      <td>182.000000</td>\n",
       "      <td>182.000000</td>\n",
       "      <td>182.000000</td>\n",
       "      <td>182.000000</td>\n",
       "      <td>182.000000</td>\n",
       "    </tr>\n",
       "    <tr>\n",
       "      <th>mean</th>\n",
       "      <td>0.675824</td>\n",
       "      <td>1.192308</td>\n",
       "      <td>0.483516</td>\n",
       "      <td>35.609890</td>\n",
       "      <td>0.467033</td>\n",
       "      <td>0.478022</td>\n",
       "      <td>78.510989</td>\n",
       "    </tr>\n",
       "    <tr>\n",
       "      <th>std</th>\n",
       "      <td>0.469357</td>\n",
       "      <td>0.516411</td>\n",
       "      <td>0.501107</td>\n",
       "      <td>15.681798</td>\n",
       "      <td>0.645007</td>\n",
       "      <td>0.755869</td>\n",
       "      <td>76.505569</td>\n",
       "    </tr>\n",
       "    <tr>\n",
       "      <th>min</th>\n",
       "      <td>0.000000</td>\n",
       "      <td>1.000000</td>\n",
       "      <td>0.000000</td>\n",
       "      <td>0.000000</td>\n",
       "      <td>0.000000</td>\n",
       "      <td>0.000000</td>\n",
       "      <td>0.000000</td>\n",
       "    </tr>\n",
       "    <tr>\n",
       "      <th>25%</th>\n",
       "      <td>0.000000</td>\n",
       "      <td>1.000000</td>\n",
       "      <td>0.000000</td>\n",
       "      <td>24.000000</td>\n",
       "      <td>0.000000</td>\n",
       "      <td>0.000000</td>\n",
       "      <td>29.000000</td>\n",
       "    </tr>\n",
       "    <tr>\n",
       "      <th>50%</th>\n",
       "      <td>1.000000</td>\n",
       "      <td>1.000000</td>\n",
       "      <td>0.000000</td>\n",
       "      <td>36.000000</td>\n",
       "      <td>0.000000</td>\n",
       "      <td>0.000000</td>\n",
       "      <td>57.000000</td>\n",
       "    </tr>\n",
       "    <tr>\n",
       "      <th>75%</th>\n",
       "      <td>1.000000</td>\n",
       "      <td>1.000000</td>\n",
       "      <td>1.000000</td>\n",
       "      <td>47.750000</td>\n",
       "      <td>1.000000</td>\n",
       "      <td>1.000000</td>\n",
       "      <td>90.000000</td>\n",
       "    </tr>\n",
       "    <tr>\n",
       "      <th>max</th>\n",
       "      <td>1.000000</td>\n",
       "      <td>3.000000</td>\n",
       "      <td>1.000000</td>\n",
       "      <td>80.000000</td>\n",
       "      <td>3.000000</td>\n",
       "      <td>4.000000</td>\n",
       "      <td>512.000000</td>\n",
       "    </tr>\n",
       "  </tbody>\n",
       "</table>\n",
       "</div>"
      ],
      "text/plain": [
       "         Survived      Pclass         Sex         Age    Siblings       Parch  \\\n",
       "count  182.000000  182.000000  182.000000  182.000000  182.000000  182.000000   \n",
       "mean     0.675824    1.192308    0.483516   35.609890    0.467033    0.478022   \n",
       "std      0.469357    0.516411    0.501107   15.681798    0.645007    0.755869   \n",
       "min      0.000000    1.000000    0.000000    0.000000    0.000000    0.000000   \n",
       "25%      0.000000    1.000000    0.000000   24.000000    0.000000    0.000000   \n",
       "50%      1.000000    1.000000    0.000000   36.000000    0.000000    0.000000   \n",
       "75%      1.000000    1.000000    1.000000   47.750000    1.000000    1.000000   \n",
       "max      1.000000    3.000000    1.000000   80.000000    3.000000    4.000000   \n",
       "\n",
       "             Fare  \n",
       "count  182.000000  \n",
       "mean    78.510989  \n",
       "std     76.505569  \n",
       "min      0.000000  \n",
       "25%     29.000000  \n",
       "50%     57.000000  \n",
       "75%     90.000000  \n",
       "max    512.000000  "
      ]
     },
     "execution_count": 15,
     "metadata": {},
     "output_type": "execute_result"
    }
   ],
   "source": [
    "titanic2.describe()"
   ]
  },
  {
   "cell_type": "code",
   "execution_count": 49,
   "id": "ab49221b",
   "metadata": {},
   "outputs": [
    {
     "name": "stdout",
     "output_type": "stream",
     "text": [
      "<class 'pandas.core.frame.DataFrame'>\n",
      "RangeIndex: 182 entries, 0 to 181\n",
      "Data columns (total 8 columns):\n",
      " #   Column    Non-Null Count  Dtype \n",
      "---  ------    --------------  ----- \n",
      " 0   Survived  182 non-null    int64 \n",
      " 1   Pclass    182 non-null    int64 \n",
      " 2   Sex       182 non-null    int64 \n",
      " 3   Age       182 non-null    int64 \n",
      " 4   Siblings  182 non-null    int64 \n",
      " 5   Parch     182 non-null    int64 \n",
      " 6   Fare      182 non-null    int64 \n",
      " 7   Gender    0 non-null      object\n",
      "dtypes: int64(7), object(1)\n",
      "memory usage: 11.5+ KB\n"
     ]
    }
   ],
   "source": [
    "titanic2.info()"
   ]
  },
  {
   "cell_type": "code",
   "execution_count": 16,
   "id": "87f9e283",
   "metadata": {},
   "outputs": [
    {
     "data": {
      "text/html": [
       "<div>\n",
       "<style scoped>\n",
       "    .dataframe tbody tr th:only-of-type {\n",
       "        vertical-align: middle;\n",
       "    }\n",
       "\n",
       "    .dataframe tbody tr th {\n",
       "        vertical-align: top;\n",
       "    }\n",
       "\n",
       "    .dataframe thead th {\n",
       "        text-align: right;\n",
       "    }\n",
       "</style>\n",
       "<table border=\"1\" class=\"dataframe\">\n",
       "  <thead>\n",
       "    <tr style=\"text-align: right;\">\n",
       "      <th></th>\n",
       "      <th>Survived</th>\n",
       "      <th>Pclass</th>\n",
       "      <th>Age</th>\n",
       "      <th>Siblings</th>\n",
       "      <th>Parch</th>\n",
       "      <th>Fare</th>\n",
       "    </tr>\n",
       "    <tr>\n",
       "      <th>Sex</th>\n",
       "      <th></th>\n",
       "      <th></th>\n",
       "      <th></th>\n",
       "      <th></th>\n",
       "      <th></th>\n",
       "      <th></th>\n",
       "    </tr>\n",
       "  </thead>\n",
       "  <tbody>\n",
       "    <tr>\n",
       "      <th>0</th>\n",
       "      <td>0.436170</td>\n",
       "      <td>1.170213</td>\n",
       "      <td>38.361702</td>\n",
       "      <td>0.404255</td>\n",
       "      <td>0.414894</td>\n",
       "      <td>69.106383</td>\n",
       "    </tr>\n",
       "    <tr>\n",
       "      <th>1</th>\n",
       "      <td>0.931818</td>\n",
       "      <td>1.215909</td>\n",
       "      <td>32.670455</td>\n",
       "      <td>0.534091</td>\n",
       "      <td>0.545455</td>\n",
       "      <td>88.556818</td>\n",
       "    </tr>\n",
       "  </tbody>\n",
       "</table>\n",
       "</div>"
      ],
      "text/plain": [
       "     Survived    Pclass        Age  Siblings     Parch       Fare\n",
       "Sex                                                              \n",
       "0    0.436170  1.170213  38.361702  0.404255  0.414894  69.106383\n",
       "1    0.931818  1.215909  32.670455  0.534091  0.545455  88.556818"
      ]
     },
     "execution_count": 16,
     "metadata": {},
     "output_type": "execute_result"
    }
   ],
   "source": [
    "titanic2.groupby([\"Sex\"]).mean()"
   ]
  },
  {
   "cell_type": "markdown",
   "id": "c61e4dd8",
   "metadata": {},
   "source": [
    "# From this we see the Females (1) are at a higher survival rate at 93% \n",
    "# Males (0) at 43% survival rate"
   ]
  },
  {
   "cell_type": "code",
   "execution_count": 17,
   "id": "ae1e5c67",
   "metadata": {},
   "outputs": [
    {
     "data": {
      "text/html": [
       "<div>\n",
       "<style scoped>\n",
       "    .dataframe tbody tr th:only-of-type {\n",
       "        vertical-align: middle;\n",
       "    }\n",
       "\n",
       "    .dataframe tbody tr th {\n",
       "        vertical-align: top;\n",
       "    }\n",
       "\n",
       "    .dataframe thead th {\n",
       "        text-align: right;\n",
       "    }\n",
       "</style>\n",
       "<table border=\"1\" class=\"dataframe\">\n",
       "  <thead>\n",
       "    <tr style=\"text-align: right;\">\n",
       "      <th></th>\n",
       "      <th></th>\n",
       "      <th>Survived</th>\n",
       "      <th>Age</th>\n",
       "      <th>Siblings</th>\n",
       "      <th>Parch</th>\n",
       "      <th>Fare</th>\n",
       "    </tr>\n",
       "    <tr>\n",
       "      <th>Sex</th>\n",
       "      <th>Pclass</th>\n",
       "      <th></th>\n",
       "      <th></th>\n",
       "      <th></th>\n",
       "      <th></th>\n",
       "      <th></th>\n",
       "    </tr>\n",
       "  </thead>\n",
       "  <tbody>\n",
       "    <tr>\n",
       "      <th rowspan=\"3\" valign=\"top\">0</th>\n",
       "      <th>1</th>\n",
       "      <td>0.421687</td>\n",
       "      <td>40.602410</td>\n",
       "      <td>0.409639</td>\n",
       "      <td>0.397590</td>\n",
       "      <td>76.060241</td>\n",
       "    </tr>\n",
       "    <tr>\n",
       "      <th>2</th>\n",
       "      <td>0.666667</td>\n",
       "      <td>18.666667</td>\n",
       "      <td>0.666667</td>\n",
       "      <td>0.833333</td>\n",
       "      <td>23.666667</td>\n",
       "    </tr>\n",
       "    <tr>\n",
       "      <th>3</th>\n",
       "      <td>0.400000</td>\n",
       "      <td>24.800000</td>\n",
       "      <td>0.000000</td>\n",
       "      <td>0.200000</td>\n",
       "      <td>8.200000</td>\n",
       "    </tr>\n",
       "    <tr>\n",
       "      <th rowspan=\"3\" valign=\"top\">1</th>\n",
       "      <th>1</th>\n",
       "      <td>0.959459</td>\n",
       "      <td>34.094595</td>\n",
       "      <td>0.581081</td>\n",
       "      <td>0.554054</td>\n",
       "      <td>102.675676</td>\n",
       "    </tr>\n",
       "    <tr>\n",
       "      <th>2</th>\n",
       "      <td>0.888889</td>\n",
       "      <td>29.555556</td>\n",
       "      <td>0.222222</td>\n",
       "      <td>0.111111</td>\n",
       "      <td>14.555556</td>\n",
       "    </tr>\n",
       "    <tr>\n",
       "      <th>3</th>\n",
       "      <td>0.600000</td>\n",
       "      <td>17.200000</td>\n",
       "      <td>0.400000</td>\n",
       "      <td>1.200000</td>\n",
       "      <td>12.800000</td>\n",
       "    </tr>\n",
       "  </tbody>\n",
       "</table>\n",
       "</div>"
      ],
      "text/plain": [
       "            Survived        Age  Siblings     Parch        Fare\n",
       "Sex Pclass                                                     \n",
       "0   1       0.421687  40.602410  0.409639  0.397590   76.060241\n",
       "    2       0.666667  18.666667  0.666667  0.833333   23.666667\n",
       "    3       0.400000  24.800000  0.000000  0.200000    8.200000\n",
       "1   1       0.959459  34.094595  0.581081  0.554054  102.675676\n",
       "    2       0.888889  29.555556  0.222222  0.111111   14.555556\n",
       "    3       0.600000  17.200000  0.400000  1.200000   12.800000"
      ]
     },
     "execution_count": 17,
     "metadata": {},
     "output_type": "execute_result"
    }
   ],
   "source": [
    "titanic2.groupby([\"Sex\", \"Pclass\"]).mean()"
   ]
  },
  {
   "cell_type": "code",
   "execution_count": 18,
   "id": "905d43d9",
   "metadata": {},
   "outputs": [],
   "source": [
    "# Females are more likely to survive, specifically first and second class\n",
    "# This also shows Males in first class are more likely to survive than in third class"
   ]
  },
  {
   "cell_type": "code",
   "execution_count": 19,
   "id": "d4ed6be6",
   "metadata": {},
   "outputs": [
    {
     "data": {
      "image/png": "[encoded data removed]",
      "text/plain": [
       "<Figure size 576x432 with 1 Axes>"
      ]
     },
     "metadata": {},
     "output_type": "display_data"
    }
   ],
   "source": [
    "sns.set(style='darkgrid')\n",
    "plt.subplots(figsize = (8,6))\n",
    "ax=sns.countplot(x='Sex', data = titanic2, hue='Survived', edgecolor=(0,0,0), linewidth=2)\n",
    "\n",
    "# Fixing title, xlabel and ylabel\n",
    "plt.title('Passenger distribution of survived vs not-survived', fontsize=25)\n",
    "plt.xlabel('Gender', fontsize=15)\n",
    "plt.ylabel(\"# of Passenger Survived\", fontsize = 15)\n",
    "labels = ['Female', 'Male']\n",
    "\n",
    "plt.xticks(sorted(titanic2.Survived.unique()),labels);"
   ]
  },
  {
   "cell_type": "code",
   "execution_count": 20,
   "id": "4d60875e",
   "metadata": {},
   "outputs": [
    {
     "data": {
      "text/html": [
       "<div>\n",
       "<style scoped>\n",
       "    .dataframe tbody tr th:only-of-type {\n",
       "        vertical-align: middle;\n",
       "    }\n",
       "\n",
       "    .dataframe tbody tr th {\n",
       "        vertical-align: top;\n",
       "    }\n",
       "\n",
       "    .dataframe thead th {\n",
       "        text-align: right;\n",
       "    }\n",
       "</style>\n",
       "<table border=\"1\" class=\"dataframe\">\n",
       "  <thead>\n",
       "    <tr style=\"text-align: right;\">\n",
       "      <th></th>\n",
       "      <th></th>\n",
       "      <th>Survived</th>\n",
       "      <th>Age</th>\n",
       "      <th>Siblings</th>\n",
       "      <th>Parch</th>\n",
       "      <th>Fare</th>\n",
       "    </tr>\n",
       "    <tr>\n",
       "      <th>Sex</th>\n",
       "      <th>Pclass</th>\n",
       "      <th></th>\n",
       "      <th></th>\n",
       "      <th></th>\n",
       "      <th></th>\n",
       "      <th></th>\n",
       "    </tr>\n",
       "  </thead>\n",
       "  <tbody>\n",
       "    <tr>\n",
       "      <th rowspan=\"3\" valign=\"top\">0</th>\n",
       "      <th>1</th>\n",
       "      <td>1.000</td>\n",
       "      <td>8.000</td>\n",
       "      <td>0.500000</td>\n",
       "      <td>2.000</td>\n",
       "      <td>115.500000</td>\n",
       "    </tr>\n",
       "    <tr>\n",
       "      <th>2</th>\n",
       "      <td>1.000</td>\n",
       "      <td>2.000</td>\n",
       "      <td>1.333333</td>\n",
       "      <td>1.000</td>\n",
       "      <td>30.333333</td>\n",
       "    </tr>\n",
       "    <tr>\n",
       "      <th>3</th>\n",
       "      <td>1.000</td>\n",
       "      <td>6.000</td>\n",
       "      <td>0.000000</td>\n",
       "      <td>1.000</td>\n",
       "      <td>12.000000</td>\n",
       "    </tr>\n",
       "    <tr>\n",
       "      <th rowspan=\"3\" valign=\"top\">1</th>\n",
       "      <th>1</th>\n",
       "      <td>0.875</td>\n",
       "      <td>14.125</td>\n",
       "      <td>0.500000</td>\n",
       "      <td>0.875</td>\n",
       "      <td>103.625000</td>\n",
       "    </tr>\n",
       "    <tr>\n",
       "      <th>2</th>\n",
       "      <td>1.000</td>\n",
       "      <td>4.000</td>\n",
       "      <td>2.000000</td>\n",
       "      <td>1.000</td>\n",
       "      <td>39.000000</td>\n",
       "    </tr>\n",
       "    <tr>\n",
       "      <th>3</th>\n",
       "      <td>0.500</td>\n",
       "      <td>3.000</td>\n",
       "      <td>0.500000</td>\n",
       "      <td>1.000</td>\n",
       "      <td>13.000000</td>\n",
       "    </tr>\n",
       "  </tbody>\n",
       "</table>\n",
       "</div>"
      ],
      "text/plain": [
       "            Survived     Age  Siblings  Parch        Fare\n",
       "Sex Pclass                                               \n",
       "0   1          1.000   8.000  0.500000  2.000  115.500000\n",
       "    2          1.000   2.000  1.333333  1.000   30.333333\n",
       "    3          1.000   6.000  0.000000  1.000   12.000000\n",
       "1   1          0.875  14.125  0.500000  0.875  103.625000\n",
       "    2          1.000   4.000  2.000000  1.000   39.000000\n",
       "    3          0.500   3.000  0.500000  1.000   13.000000"
      ]
     },
     "execution_count": 20,
     "metadata": {},
     "output_type": "execute_result"
    }
   ],
   "source": [
    "titanic2[titanic2['Age']<18].groupby(['Sex','Pclass']).mean()"
   ]
  },
  {
   "cell_type": "code",
   "execution_count": 21,
   "id": "34ee46cc",
   "metadata": {},
   "outputs": [],
   "source": [
    "# Children below 18 years of age have higher chances of surviving, proving they saved childen first"
   ]
  },
  {
   "cell_type": "markdown",
   "id": "db65bdbd",
   "metadata": {},
   "source": [
    "# Create a correlation matrix and round to read"
   ]
  },
  {
   "cell_type": "code",
   "execution_count": 22,
   "id": "f2e84fd4",
   "metadata": {},
   "outputs": [],
   "source": [
    "matrix = titanic2.corr().round(2)"
   ]
  },
  {
   "cell_type": "code",
   "execution_count": 23,
   "id": "a24a0f7b",
   "metadata": {},
   "outputs": [
    {
     "name": "stdout",
     "output_type": "stream",
     "text": [
      "          Survived  Pclass   Sex   Age  Siblings  Parch  Fare\n",
      "Survived      1.00   -0.04  0.53 -0.25      0.10   0.02  0.13\n",
      "Pclass       -0.04    1.00  0.04 -0.31     -0.11   0.05 -0.32\n",
      "Sex           0.53    0.04  1.00 -0.18      0.10   0.09  0.13\n",
      "Age          -0.25   -0.31 -0.18  1.00     -0.15  -0.27 -0.09\n",
      "Siblings      0.10   -0.11  0.10 -0.15      1.00   0.25  0.29\n",
      "Parch         0.02    0.05  0.09 -0.27      0.25   1.00  0.39\n",
      "Fare          0.13   -0.32  0.13 -0.09      0.29   0.39  1.00\n"
     ]
    }
   ],
   "source": [
    "print(matrix)"
   ]
  },
  {
   "cell_type": "code",
   "execution_count": 24,
   "id": "05bccfec",
   "metadata": {},
   "outputs": [],
   "source": [
    "# Create heatmat of correlation matrix with divergent colors"
   ]
  },
  {
   "cell_type": "code",
   "execution_count": 25,
   "id": "458bff35",
   "metadata": {},
   "outputs": [
    {
     "data": {
      "image/png": "[encoded data removed]",
      "text/plain": [
       "<Figure size 432x288 with 2 Axes>"
      ]
     },
     "metadata": {},
     "output_type": "display_data"
    }
   ],
   "source": [
    "sns.heatmap(matrix, annot=True, vmax=1, vmin=-1, center=0, cmap='vlag')\n",
    "plt.show()"
   ]
  },
  {
   "cell_type": "code",
   "execution_count": 26,
   "id": "708a8582",
   "metadata": {},
   "outputs": [],
   "source": [
    "# Create map of only lower half to read easily"
   ]
  },
  {
   "cell_type": "code",
   "execution_count": 27,
   "id": "b2fbbfb1",
   "metadata": {},
   "outputs": [
    {
     "data": {
      "image/png": "[encoded data removed]",
      "text/plain": [
       "<Figure size 432x288 with 2 Axes>"
      ]
     },
     "metadata": {},
     "output_type": "display_data"
    }
   ],
   "source": [
    "mask = np.triu(np.ones_like(matrix, dtype=bool))\n",
    "sns.heatmap(matrix, annot=True, vmax=1, vmin=-1, center=0, cmap='vlag', mask=mask)\n",
    "plt.show()"
   ]
  },
  {
   "cell_type": "code",
   "execution_count": 28,
   "id": "382e229d",
   "metadata": {},
   "outputs": [],
   "source": [
    "# Heat map shows that Pclass, Siblings, Parch and Sex highly correlate with survival rates"
   ]
  },
  {
   "cell_type": "markdown",
   "id": "132342cf",
   "metadata": {},
   "source": [
    "# Did the \"wealthy\" or first class boarders have a higher chance of survival?"
   ]
  },
  {
   "cell_type": "code",
   "execution_count": 29,
   "id": "1a31abe0",
   "metadata": {},
   "outputs": [],
   "source": [
    "# Looking at distribution of Fare in classes"
   ]
  },
  {
   "cell_type": "code",
   "execution_count": 30,
   "id": "e4c4da13",
   "metadata": {},
   "outputs": [
    {
     "data": {
      "image/png": "[encoded data removed]",
      "text/plain": [
       "<Figure size 720x504 with 1 Axes>"
      ]
     },
     "metadata": {},
     "output_type": "display_data"
    },
    {
     "data": {
      "image/png": "[encoded data removed]",
      "text/plain": [
       "<Figure size 720x504 with 1 Axes>"
      ]
     },
     "metadata": {},
     "output_type": "display_data"
    }
   ],
   "source": [
    "# Distribution for rich:\n",
    "first_fares = titanic2[\"Fare\"][titanic2[\"Pclass\"]==1]\n",
    "first_mean = round(np.mean(first_fares), 2)\n",
    "first_median = round(np.median(first_fares), 2)\n",
    "first_conf = np.round(np.percentile(first_fares, [2.5, 97.5]), 2)\n",
    "fig, ax = plt.subplots(figsize = (10, 7))\n",
    "ax.hist(first_fares)\n",
    "props = dict(boxstyle='round', facecolor='wheat', alpha=0.5)\n",
    "ax.text(0.76, 0.95, f\"Mean: {first_mean} \\nMedian: {first_median} \\nCI: {first_conf}\", transform=ax.transAxes, fontsize=14,\n",
    "        verticalalignment='top', bbox=props)\n",
    "plt.xlabel(\"Fare\")\n",
    "plt.ylabel(\"Frequency\")\n",
    "plt.title(\"Distribution of the fare of the tickets in the first class\")\n",
    "plt.show()\n",
    "# Distribution for Poor\n",
    "third_fares = titanic2[\"Fare\"][titanic2[\"Pclass\"]==3]\n",
    "third_mean = round(np.mean(third_fares), 2)\n",
    "third_median = round(np.median(third_fares), 2)\n",
    "third_conf = np.round(np.percentile(third_fares, [2.5, 97.5]), 2)\n",
    "fig, ax = plt.subplots(figsize = (10, 7))\n",
    "ax.hist(third_fares)\n",
    "props = dict(boxstyle='round', facecolor='wheat', alpha=0.5)\n",
    "ax.text(0.76, 0.95, f\"Mean: {third_mean} \\nMedian: {third_median} \\nCI: {third_conf}\", transform=ax.transAxes, fontsize=14,\n",
    "        verticalalignment='top', bbox=props)\n",
    "plt.xlabel(\"Fare\")\n",
    "plt.ylabel(\"Frequency\")\n",
    "plt.title(\"Distribution of the fare of the tickets in the third class\")\n",
    "plt.show()"
   ]
  },
  {
   "cell_type": "code",
   "execution_count": 31,
   "id": "56930361",
   "metadata": {},
   "outputs": [
    {
     "data": {
      "image/png": "[encoded data removed]",
      "text/plain": [
       "<Figure size 432x288 with 1 Axes>"
      ]
     },
     "metadata": {},
     "output_type": "display_data"
    }
   ],
   "source": [
    "x = [\"First-Class\", \"Third-Class\"]\n",
    "y = [np.mean(titanic2[\"Survived\"][titanic2[\"Pclass\"]==1]), np.mean(titanic2[\"Survived\"][titanic2[\"Pclass\"]==3])]\n",
    "plt.bar(x, y)\n",
    "plt.ylabel(\"Survival Rate\")\n",
    "plt.title(\"Survival Rate for people in the first and third classes\")\n",
    "plt.show()"
   ]
  },
  {
   "cell_type": "code",
   "execution_count": 32,
   "id": "ed7da25c",
   "metadata": {},
   "outputs": [],
   "source": [
    "# This shows First-Class boarders had a much higher chance of survival!"
   ]
  },
  {
   "cell_type": "markdown",
   "id": "4f09731e",
   "metadata": {},
   "source": [
    "# Running a Independent Chi-Square test"
   ]
  },
  {
   "cell_type": "code",
   "execution_count": 33,
   "id": "49a1aa77",
   "metadata": {},
   "outputs": [],
   "source": [
    "# The H0 (Null Hypothesis): There is no relationship between variable one and variable two\n",
    "# The H1 (Alternative Hypothesis): There is a relationship between variable one and variable two"
   ]
  },
  {
   "cell_type": "code",
   "execution_count": 34,
   "id": "4bd4e2c3",
   "metadata": {},
   "outputs": [],
   "source": [
    "# Create contingency table with age/survived"
   ]
  },
  {
   "cell_type": "code",
   "execution_count": 35,
   "id": "71ffac75",
   "metadata": {},
   "outputs": [],
   "source": [
    "Titanic_crosstab = pd.crosstab(titanic2['Age'], titanic2['Survived'])"
   ]
  },
  {
   "cell_type": "code",
   "execution_count": 36,
   "id": "8dbb642b",
   "metadata": {},
   "outputs": [],
   "source": [
    "# Run chi2 against contingency table"
   ]
  },
  {
   "cell_type": "code",
   "execution_count": 37,
   "id": "6f20cb5a",
   "metadata": {},
   "outputs": [
    {
     "data": {
      "text/plain": [
       "(75.01505366466094,\n",
       " 0.07796951465218054,\n",
       " 59,\n",
       " array([[0.32417582, 0.67582418],\n",
       "        [0.32417582, 0.67582418],\n",
       "        [0.97252747, 2.02747253],\n",
       "        [0.32417582, 0.67582418],\n",
       "        [0.97252747, 2.02747253],\n",
       "        [0.32417582, 0.67582418],\n",
       "        [0.32417582, 0.67582418],\n",
       "        [0.32417582, 0.67582418],\n",
       "        [0.32417582, 0.67582418],\n",
       "        [0.97252747, 2.02747253],\n",
       "        [0.97252747, 2.02747253],\n",
       "        [1.2967033 , 2.7032967 ],\n",
       "        [1.94505495, 4.05494505],\n",
       "        [0.97252747, 2.02747253],\n",
       "        [0.97252747, 2.02747253],\n",
       "        [1.2967033 , 2.7032967 ],\n",
       "        [2.91758242, 6.08241758],\n",
       "        [1.2967033 , 2.7032967 ],\n",
       "        [0.32417582, 0.67582418],\n",
       "        [1.62087912, 3.37912088],\n",
       "        [0.64835165, 1.35164835],\n",
       "        [1.62087912, 3.37912088],\n",
       "        [1.2967033 , 2.7032967 ],\n",
       "        [1.62087912, 3.37912088],\n",
       "        [1.2967033 , 2.7032967 ],\n",
       "        [1.2967033 , 2.7032967 ],\n",
       "        [0.64835165, 1.35164835],\n",
       "        [1.94505495, 4.05494505],\n",
       "        [3.89010989, 8.10989011],\n",
       "        [0.97252747, 2.02747253],\n",
       "        [1.2967033 , 2.7032967 ],\n",
       "        [1.62087912, 3.37912088],\n",
       "        [1.2967033 , 2.7032967 ],\n",
       "        [0.32417582, 0.67582418],\n",
       "        [0.97252747, 2.02747253],\n",
       "        [0.32417582, 0.67582418],\n",
       "        [0.97252747, 2.02747253],\n",
       "        [0.97252747, 2.02747253],\n",
       "        [0.64835165, 1.35164835],\n",
       "        [1.62087912, 3.37912088],\n",
       "        [1.62087912, 3.37912088],\n",
       "        [1.62087912, 3.37912088],\n",
       "        [1.2967033 , 2.7032967 ],\n",
       "        [0.64835165, 1.35164835],\n",
       "        [1.2967033 , 2.7032967 ],\n",
       "        [0.32417582, 0.67582418],\n",
       "        [0.97252747, 2.02747253],\n",
       "        [0.32417582, 0.67582418],\n",
       "        [0.97252747, 2.02747253],\n",
       "        [0.32417582, 0.67582418],\n",
       "        [1.62087912, 3.37912088],\n",
       "        [0.64835165, 1.35164835],\n",
       "        [0.64835165, 1.35164835],\n",
       "        [0.32417582, 0.67582418],\n",
       "        [0.32417582, 0.67582418],\n",
       "        [0.32417582, 0.67582418],\n",
       "        [0.64835165, 1.35164835],\n",
       "        [0.32417582, 0.67582418],\n",
       "        [0.32417582, 0.67582418],\n",
       "        [0.32417582, 0.67582418]]))"
      ]
     },
     "execution_count": 37,
     "metadata": {},
     "output_type": "execute_result"
    }
   ],
   "source": [
    "stats.chi2_contingency(Titanic_crosstab)"
   ]
  },
  {
   "cell_type": "code",
   "execution_count": 38,
   "id": "3749941f",
   "metadata": {},
   "outputs": [],
   "source": [
    "# We reject the null hypothesis, age does affect survival rate. This is because the p value is < .05."
   ]
  },
  {
   "cell_type": "code",
   "execution_count": 39,
   "id": "8c5d9348",
   "metadata": {},
   "outputs": [],
   "source": [
    "# Create contingency table with sex/survived"
   ]
  },
  {
   "cell_type": "code",
   "execution_count": 40,
   "id": "fe5878c5",
   "metadata": {},
   "outputs": [],
   "source": [
    "Titanic_crosstab2 = pd.crosstab(titanic2['Sex'], titanic2['Survived'])"
   ]
  },
  {
   "cell_type": "code",
   "execution_count": 41,
   "id": "20992b04",
   "metadata": {},
   "outputs": [],
   "source": [
    "# Run chi2 against contingency table"
   ]
  },
  {
   "cell_type": "code",
   "execution_count": 42,
   "id": "3381bf9c",
   "metadata": {},
   "outputs": [
    {
     "data": {
      "text/plain": [
       "(48.727693151066845,\n",
       " 2.9408443932963227e-12,\n",
       " 1,\n",
       " array([[30.47252747, 63.52747253],\n",
       "        [28.52747253, 59.47252747]]))"
      ]
     },
     "execution_count": 42,
     "metadata": {},
     "output_type": "execute_result"
    }
   ],
   "source": [
    "stats.chi2_contingency(Titanic_crosstab2)"
   ]
  },
  {
   "cell_type": "code",
   "execution_count": 43,
   "id": "c6280421",
   "metadata": {},
   "outputs": [],
   "source": [
    "# We reject the null hypothesis, sex does effect survival rate. This is because the p value is < .05."
   ]
  },
  {
   "cell_type": "code",
   "execution_count": 44,
   "id": "cbd2abfb",
   "metadata": {},
   "outputs": [],
   "source": [
    "# Create contingency table with pclass/survived"
   ]
  },
  {
   "cell_type": "code",
   "execution_count": 45,
   "id": "cb8cc606",
   "metadata": {},
   "outputs": [],
   "source": [
    "Titanic_crosstab3 = pd.crosstab(titanic2['Pclass'], titanic2['Survived'])"
   ]
  },
  {
   "cell_type": "code",
   "execution_count": 46,
   "id": "057a2647",
   "metadata": {},
   "outputs": [],
   "source": [
    "# Run chi2 against contingency table"
   ]
  },
  {
   "cell_type": "code",
   "execution_count": 47,
   "id": "73685e9f",
   "metadata": {},
   "outputs": [
    {
     "data": {
      "text/plain": [
       "(2.46709375266051,\n",
       " 0.29125768845256533,\n",
       " 2,\n",
       " array([[ 50.8956044 , 106.1043956 ],\n",
       "        [  4.86263736,  10.13736264],\n",
       "        [  3.24175824,   6.75824176]]))"
      ]
     },
     "execution_count": 47,
     "metadata": {},
     "output_type": "execute_result"
    }
   ],
   "source": [
    "stats.chi2_contingency(Titanic_crosstab3)"
   ]
  },
  {
   "cell_type": "code",
   "execution_count": 48,
   "id": "f1cb2fe4",
   "metadata": {},
   "outputs": [],
   "source": [
    "# We reject the null hypothesis, Pclass does effect survival rate. This is because the p value is < .05."
   ]
  }
 ],
 "metadata": {
  "kernelspec": {
   "display_name": "Python 3",
   "language": "python",
   "name": "python3"
  },
  "language_info": {
   "codemirror_mode": {
    "name": "ipython",
    "version": 3
   },
   "file_extension": ".py",
   "mimetype": "text/x-python",
   "name": "python",
   "nbconvert_exporter": "python",
   "pygments_lexer": "ipython3",
   "version": "3.8.8"
  }
 },
 "nbformat": 4,
 "nbformat_minor": 5
}
